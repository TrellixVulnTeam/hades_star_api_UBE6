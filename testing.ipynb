{
 "cells": [
  {
   "cell_type": "code",
   "execution_count": 1,
   "metadata": {},
   "outputs": [],
   "source": [
    "import datetime"
   ]
  },
  {
   "cell_type": "markdown",
   "metadata": {},
   "source": [
    "# Firestore"
   ]
  },
  {
   "cell_type": "code",
   "execution_count": 1,
   "metadata": {},
   "outputs": [],
   "source": [
    "from google.cloud import firestore\n",
    "db = firestore.Client(project='skaynet-356400')"
   ]
  },
  {
   "cell_type": "markdown",
   "metadata": {},
   "source": [
    "## Read Data"
   ]
  },
  {
   "cell_type": "markdown",
   "metadata": {},
   "source": [
    "### Queues for queues"
   ]
  },
  {
   "cell_type": "code",
   "execution_count": 2,
   "metadata": {},
   "outputs": [],
   "source": [
    "queues_obj=db.collection('red_star_groups').where(u'red_star_level', u'==', 5).where(u'queue_type', u'==', 'standard')"
   ]
  },
  {
   "cell_type": "code",
   "execution_count": 3,
   "metadata": {},
   "outputs": [],
   "source": [
    "import pandas as pd"
   ]
  },
  {
   "cell_type": "code",
   "execution_count": 9,
   "metadata": {},
   "outputs": [
    {
     "data": {
      "text/html": [
       "<div>\n",
       "<style scoped>\n",
       "    .dataframe tbody tr th:only-of-type {\n",
       "        vertical-align: middle;\n",
       "    }\n",
       "\n",
       "    .dataframe tbody tr th {\n",
       "        vertical-align: top;\n",
       "    }\n",
       "\n",
       "    .dataframe thead th {\n",
       "        text-align: right;\n",
       "    }\n",
       "</style>\n",
       "<table border=\"1\" class=\"dataframe\">\n",
       "  <thead>\n",
       "    <tr style=\"text-align: right;\">\n",
       "      <th></th>\n",
       "      <th>queue_type</th>\n",
       "      <th>users</th>\n",
       "      <th>create_time</th>\n",
       "      <th>group_id</th>\n",
       "      <th>red_star_level</th>\n",
       "    </tr>\n",
       "  </thead>\n",
       "  <tbody>\n",
       "    <tr>\n",
       "      <th>0</th>\n",
       "      <td>standard</td>\n",
       "      <td>1111111</td>\n",
       "      <td>2022-08-02 00:00:16.098000+00:00</td>\n",
       "      <td>6</td>\n",
       "      <td>5</td>\n",
       "    </tr>\n",
       "    <tr>\n",
       "      <th>0</th>\n",
       "      <td>standard</td>\n",
       "      <td>404868137096577026</td>\n",
       "      <td>2022-07-20 13:19:25.982000+00:00</td>\n",
       "      <td>5</td>\n",
       "      <td>5</td>\n",
       "    </tr>\n",
       "  </tbody>\n",
       "</table>\n",
       "</div>"
      ],
      "text/plain": [
       "  queue_type               users                      create_time  group_id  \\\n",
       "0   standard             1111111 2022-08-02 00:00:16.098000+00:00         6   \n",
       "0   standard  404868137096577026 2022-07-20 13:19:25.982000+00:00         5   \n",
       "\n",
       "   red_star_level  \n",
       "0               5  \n",
       "0               5  "
      ]
     },
     "execution_count": 9,
     "metadata": {},
     "output_type": "execute_result"
    }
   ],
   "source": [
    "queues=pd.DataFrame()\n",
    "for t in queues_obj.stream():\n",
    "    queues=pd.concat((queues,pd.DataFrame(t.to_dict())),axis=0)\n",
    "queues"
   ]
  },
  {
   "cell_type": "code",
   "execution_count": 10,
   "metadata": {},
   "outputs": [],
   "source": [
    "queues['create_time']=queues['create_time'].apply(pd.to_datetime)"
   ]
  },
  {
   "cell_type": "code",
   "execution_count": 16,
   "metadata": {},
   "outputs": [
    {
     "data": {
      "text/html": [
       "<div>\n",
       "<style scoped>\n",
       "    .dataframe tbody tr th:only-of-type {\n",
       "        vertical-align: middle;\n",
       "    }\n",
       "\n",
       "    .dataframe tbody tr th {\n",
       "        vertical-align: top;\n",
       "    }\n",
       "\n",
       "    .dataframe thead th {\n",
       "        text-align: right;\n",
       "    }\n",
       "</style>\n",
       "<table border=\"1\" class=\"dataframe\">\n",
       "  <thead>\n",
       "    <tr style=\"text-align: right;\">\n",
       "      <th></th>\n",
       "      <th>queue_type</th>\n",
       "      <th>users</th>\n",
       "      <th>create_time</th>\n",
       "      <th>group_id</th>\n",
       "      <th>red_star_level</th>\n",
       "    </tr>\n",
       "  </thead>\n",
       "  <tbody>\n",
       "    <tr>\n",
       "      <th>0</th>\n",
       "      <td>standard</td>\n",
       "      <td>404868137096577026</td>\n",
       "      <td>2022-07-20 13:19:25.982000+00:00</td>\n",
       "      <td>5</td>\n",
       "      <td>5</td>\n",
       "    </tr>\n",
       "    <tr>\n",
       "      <th>0</th>\n",
       "      <td>standard</td>\n",
       "      <td>1111111</td>\n",
       "      <td>2022-08-02 00:00:16.098000+00:00</td>\n",
       "      <td>6</td>\n",
       "      <td>5</td>\n",
       "    </tr>\n",
       "  </tbody>\n",
       "</table>\n",
       "</div>"
      ],
      "text/plain": [
       "  queue_type               users                      create_time  group_id  \\\n",
       "0   standard  404868137096577026 2022-07-20 13:19:25.982000+00:00         5   \n",
       "0   standard             1111111 2022-08-02 00:00:16.098000+00:00         6   \n",
       "\n",
       "   red_star_level  \n",
       "0               5  \n",
       "0               5  "
      ]
     },
     "execution_count": 16,
     "metadata": {},
     "output_type": "execute_result"
    }
   ],
   "source": [
    "for row in queues.sort_values(by='create_time',ascending=True)"
   ]
  },
  {
   "cell_type": "code",
   "execution_count": 6,
   "metadata": {},
   "outputs": [
    {
     "name": "stdout",
     "output_type": "stream",
     "text": [
      "7TqMpYJvqb8hzvPRRXlc\n",
      "5\n",
      "kRM976GPrHHqGptyV7yM\n",
      "5\n"
     ]
    }
   ],
   "source": [
    "queues= queues_obj.stream()\n",
    "for queue in queues:\n",
    "    queue_id=f'{queue.id}'\n",
    "    queue_dict=queue.to_dict()\n",
    "    print(queue_id)\n",
    "    print(queue_dict['red_star_level'])"
   ]
  },
  {
   "cell_type": "code",
   "execution_count": 96,
   "metadata": {},
   "outputs": [],
   "source": [
    "#doc_ref = db.collection(u'queues_for_queues').document(u'alovelace')\n",
    "queues_obj = db.collection(u'red_star_groups').order_by('group_id',direction='DESCENDING').limit(1)\n",
    "#queues=queues.document(u'5').get()\n",
    "#doc\\ref.set({u'red_star_level': u'5',u'users':[])"
   ]
  },
  {
   "cell_type": "code",
   "execution_count": 98,
   "metadata": {},
   "outputs": [
    {
     "ename": "TypeError",
     "evalue": "list indices must be integers or slices, not str",
     "output_type": "error",
     "traceback": [
      "\u001b[1;31m---------------------------------------------------------------------------\u001b[0m",
      "\u001b[1;31mTypeError\u001b[0m                                 Traceback (most recent call last)",
      "\u001b[1;32mc:\\Users\\sarah\\code_projects\\hades_star_api\\testing.ipynb Cell 10\u001b[0m in \u001b[0;36m<cell line: 1>\u001b[1;34m()\u001b[0m\n\u001b[1;32m----> <a href='vscode-notebook-cell:/c%3A/Users/sarah/code_projects/hades_star_api/testing.ipynb#ch0000031?line=0'>1</a>\u001b[0m queues_obj\u001b[39m.\u001b[39;49mget()[\u001b[39m'\u001b[39;49m\u001b[39mgroup_id\u001b[39;49m\u001b[39m'\u001b[39;49m]\n",
      "\u001b[1;31mTypeError\u001b[0m: list indices must be integers or slices, not str"
     ]
    }
   ],
   "source": [
    "queues_obj.get()['group_id']"
   ]
  },
  {
   "cell_type": "code",
   "execution_count": 95,
   "metadata": {},
   "outputs": [
    {
     "name": "stdout",
     "output_type": "stream",
     "text": [
      "<google.cloud.firestore_v1.base_document.DocumentSnapshot object at 0x0000015B5698FD00>\n",
      "sCvYVAORhKfO4SeiDcqR\n",
      "{'red_star_level': 5, 'queue_type': 'standard', 'group_id': 1, 'create_time': DatetimeWithNanoseconds(2022, 7, 20, 12, 31, 26, 196000, tzinfo=datetime.timezone.utc), 'users': ['api_user', '404868137096577026']}\n"
     ]
    }
   ],
   "source": [
    "queues= queues_obj.stream()\n",
    "for queue in queues:\n",
    "    print(queue)\n",
    "    queue_id=f'{queue.id}'\n",
    "    queue_dict=queue.to_dict()\n",
    "    print(queue_id)\n",
    "    print(queue_dict)"
   ]
  },
  {
   "cell_type": "code",
   "execution_count": null,
   "metadata": {},
   "outputs": [],
   "source": [
    "print(queue_dict['users'])\n",
    "print(len(queue_dict['users'])) "
   ]
  },
  {
   "cell_type": "code",
   "execution_count": 4,
   "metadata": {},
   "outputs": [
    {
     "data": {
      "text/plain": [
       "<google.cloud.firestore_v1.query.Query at 0x1f4790c8ac0>"
      ]
     },
     "execution_count": 4,
     "metadata": {},
     "output_type": "execute_result"
    }
   ],
   "source": [
    "query_results=queues_obj.where(u'users', u'array_contains', 'api_user')\n",
    "query_results"
   ]
  },
  {
   "cell_type": "code",
   "execution_count": 5,
   "metadata": {},
   "outputs": [
    {
     "ename": "FailedPrecondition",
     "evalue": "400 The query requires an index. You can create it here: https://console.firebase.google.com/v1/r/project/skaynet-356400/firestore/indexes?create_composite=ClRwcm9qZWN0cy9za2F5bmV0LTM1NjQwMC9kYXRhYmFzZXMvKGRlZmF1bHQpL2NvbGxlY3Rpb25Hcm91cHMvcXVldWVfcXVldWVfNS9pbmRleGVzL18QARoJCgV1c2VycxgBGg8KC2NyZWF0ZV90aW1lEAIaDAoIX19uYW1lX18QAg",
     "output_type": "error",
     "traceback": [
      "\u001b[1;31m---------------------------------------------------------------------------\u001b[0m",
      "\u001b[1;31m_MultiThreadedRendezvous\u001b[0m                  Traceback (most recent call last)",
      "File \u001b[1;32mc:\\Users\\sarah\\code_projects\\hades_star_api\\hades_star_api\\lib\\site-packages\\google\\api_core\\grpc_helpers.py:140\u001b[0m, in \u001b[0;36m_wrap_stream_errors.<locals>.error_remapped_callable\u001b[1;34m(*args, **kwargs)\u001b[0m\n\u001b[0;32m    139\u001b[0m     prefetch_first \u001b[39m=\u001b[39m \u001b[39mgetattr\u001b[39m(callable_, \u001b[39m\"\u001b[39m\u001b[39m_prefetch_first_result_\u001b[39m\u001b[39m\"\u001b[39m, \u001b[39mTrue\u001b[39;00m)\n\u001b[1;32m--> 140\u001b[0m     \u001b[39mreturn\u001b[39;00m _StreamingResponseIterator(\n\u001b[0;32m    141\u001b[0m         result, prefetch_first_result\u001b[39m=\u001b[39;49mprefetch_first\n\u001b[0;32m    142\u001b[0m     )\n\u001b[0;32m    143\u001b[0m \u001b[39mexcept\u001b[39;00m grpc\u001b[39m.\u001b[39mRpcError \u001b[39mas\u001b[39;00m exc:\n",
      "File \u001b[1;32mc:\\Users\\sarah\\code_projects\\hades_star_api\\hades_star_api\\lib\\site-packages\\google\\api_core\\grpc_helpers.py:66\u001b[0m, in \u001b[0;36m_StreamingResponseIterator.__init__\u001b[1;34m(self, wrapped, prefetch_first_result)\u001b[0m\n\u001b[0;32m     65\u001b[0m     \u001b[39mif\u001b[39;00m prefetch_first_result:\n\u001b[1;32m---> 66\u001b[0m         \u001b[39mself\u001b[39m\u001b[39m.\u001b[39m_stored_first_result \u001b[39m=\u001b[39m \u001b[39mnext\u001b[39;49m(\u001b[39mself\u001b[39;49m\u001b[39m.\u001b[39;49m_wrapped)\n\u001b[0;32m     67\u001b[0m \u001b[39mexcept\u001b[39;00m \u001b[39mTypeError\u001b[39;00m:\n\u001b[0;32m     68\u001b[0m     \u001b[39m# It is possible the wrapped method isn't an iterable (a grpc.Call\u001b[39;00m\n\u001b[0;32m     69\u001b[0m     \u001b[39m# for instance). If this happens don't store the first result.\u001b[39;00m\n",
      "File \u001b[1;32mc:\\Users\\sarah\\code_projects\\hades_star_api\\hades_star_api\\lib\\site-packages\\grpc\\_channel.py:426\u001b[0m, in \u001b[0;36m_Rendezvous.__next__\u001b[1;34m(self)\u001b[0m\n\u001b[0;32m    425\u001b[0m \u001b[39mdef\u001b[39;00m \u001b[39m__next__\u001b[39m(\u001b[39mself\u001b[39m):\n\u001b[1;32m--> 426\u001b[0m     \u001b[39mreturn\u001b[39;00m \u001b[39mself\u001b[39;49m\u001b[39m.\u001b[39;49m_next()\n",
      "File \u001b[1;32mc:\\Users\\sarah\\code_projects\\hades_star_api\\hades_star_api\\lib\\site-packages\\grpc\\_channel.py:826\u001b[0m, in \u001b[0;36m_MultiThreadedRendezvous._next\u001b[1;34m(self)\u001b[0m\n\u001b[0;32m    825\u001b[0m \u001b[39melif\u001b[39;00m \u001b[39mself\u001b[39m\u001b[39m.\u001b[39m_state\u001b[39m.\u001b[39mcode \u001b[39mis\u001b[39;00m \u001b[39mnot\u001b[39;00m \u001b[39mNone\u001b[39;00m:\n\u001b[1;32m--> 826\u001b[0m     \u001b[39mraise\u001b[39;00m \u001b[39mself\u001b[39m\n",
      "\u001b[1;31m_MultiThreadedRendezvous\u001b[0m: <_MultiThreadedRendezvous of RPC that terminated with:\n\tstatus = StatusCode.FAILED_PRECONDITION\n\tdetails = \"The query requires an index. You can create it here: https://console.firebase.google.com/v1/r/project/skaynet-356400/firestore/indexes?create_composite=ClRwcm9qZWN0cy9za2F5bmV0LTM1NjQwMC9kYXRhYmFzZXMvKGRlZmF1bHQpL2NvbGxlY3Rpb25Hcm91cHMvcXVldWVfcXVldWVfNS9pbmRleGVzL18QARoJCgV1c2VycxgBGg8KC2NyZWF0ZV90aW1lEAIaDAoIX19uYW1lX18QAg\"\n\tdebug_error_string = \"{\"created\":\"@1658076424.419000000\",\"description\":\"Error received from peer ipv4:172.253.122.95:443\",\"file\":\"src/core/lib/surface/call.cc\",\"file_line\":967,\"grpc_message\":\"The query requires an index. You can create it here: https://console.firebase.google.com/v1/r/project/skaynet-356400/firestore/indexes?create_composite=ClRwcm9qZWN0cy9za2F5bmV0LTM1NjQwMC9kYXRhYmFzZXMvKGRlZmF1bHQpL2NvbGxlY3Rpb25Hcm91cHMvcXVldWVfcXVldWVfNS9pbmRleGVzL18QARoJCgV1c2VycxgBGg8KC2NyZWF0ZV90aW1lEAIaDAoIX19uYW1lX18QAg\",\"grpc_status\":9}\"\n>",
      "\nThe above exception was the direct cause of the following exception:\n",
      "\u001b[1;31mFailedPrecondition\u001b[0m                        Traceback (most recent call last)",
      "\u001b[1;32mc:\\Users\\sarah\\code_projects\\hades_star_api\\testing.ipynb Cell 10\u001b[0m in \u001b[0;36m<cell line: 1>\u001b[1;34m()\u001b[0m\n\u001b[1;32m----> <a href='vscode-notebook-cell:/c%3A/Users/sarah/code_projects/hades_star_api/testing.ipynb#ch0000023?line=0'>1</a>\u001b[0m got\u001b[39m=\u001b[39mquery_results\u001b[39m.\u001b[39;49mget()\n\u001b[0;32m      <a href='vscode-notebook-cell:/c%3A/Users/sarah/code_projects/hades_star_api/testing.ipynb#ch0000023?line=1'>2</a>\u001b[0m \u001b[39mprint\u001b[39m(got[\u001b[39m0\u001b[39m]\u001b[39m.\u001b[39mto_dict())\n",
      "File \u001b[1;32mc:\\Users\\sarah\\code_projects\\hades_star_api\\hades_star_api\\lib\\site-packages\\google\\cloud\\firestore_v1\\query.py:169\u001b[0m, in \u001b[0;36mQuery.get\u001b[1;34m(self, transaction, retry, timeout)\u001b[0m\n\u001b[0;32m    166\u001b[0m \u001b[39mif\u001b[39;00m is_limited_to_last:\n\u001b[0;32m    167\u001b[0m     result \u001b[39m=\u001b[39m \u001b[39mreversed\u001b[39m(\u001b[39mlist\u001b[39m(result))\n\u001b[1;32m--> 169\u001b[0m \u001b[39mreturn\u001b[39;00m \u001b[39mlist\u001b[39;49m(result)\n",
      "File \u001b[1;32mc:\\Users\\sarah\\code_projects\\hades_star_api\\hades_star_api\\lib\\site-packages\\google\\cloud\\firestore_v1\\query.py:273\u001b[0m, in \u001b[0;36mQuery.stream\u001b[1;34m(self, transaction, retry, timeout)\u001b[0m\n\u001b[0;32m    237\u001b[0m \u001b[39mdef\u001b[39;00m \u001b[39mstream\u001b[39m(\n\u001b[0;32m    238\u001b[0m     \u001b[39mself\u001b[39m,\n\u001b[0;32m    239\u001b[0m     transaction\u001b[39m=\u001b[39m\u001b[39mNone\u001b[39;00m,\n\u001b[0;32m    240\u001b[0m     retry: retries\u001b[39m.\u001b[39mRetry \u001b[39m=\u001b[39m gapic_v1\u001b[39m.\u001b[39mmethod\u001b[39m.\u001b[39mDEFAULT,\n\u001b[0;32m    241\u001b[0m     timeout: \u001b[39mfloat\u001b[39m \u001b[39m=\u001b[39m \u001b[39mNone\u001b[39;00m,\n\u001b[0;32m    242\u001b[0m ) \u001b[39m-\u001b[39m\u001b[39m>\u001b[39m Generator[document\u001b[39m.\u001b[39mDocumentSnapshot, Any, \u001b[39mNone\u001b[39;00m]:\n\u001b[0;32m    243\u001b[0m     \u001b[39m\"\"\"Read the documents in the collection that match this query.\u001b[39;00m\n\u001b[0;32m    244\u001b[0m \n\u001b[0;32m    245\u001b[0m \u001b[39m    This sends a ``RunQuery`` RPC and then returns an iterator which\u001b[39;00m\n\u001b[1;32m   (...)\u001b[0m\n\u001b[0;32m    271\u001b[0m \u001b[39m        The next document that fulfills the query.\u001b[39;00m\n\u001b[0;32m    272\u001b[0m \u001b[39m    \"\"\"\u001b[39;00m\n\u001b[1;32m--> 273\u001b[0m     response_iterator, expected_prefix \u001b[39m=\u001b[39m \u001b[39mself\u001b[39;49m\u001b[39m.\u001b[39;49m_get_stream_iterator(\n\u001b[0;32m    274\u001b[0m         transaction,\n\u001b[0;32m    275\u001b[0m         retry,\n\u001b[0;32m    276\u001b[0m         timeout,\n\u001b[0;32m    277\u001b[0m     )\n\u001b[0;32m    279\u001b[0m     last_snapshot \u001b[39m=\u001b[39m \u001b[39mNone\u001b[39;00m\n\u001b[0;32m    281\u001b[0m     \u001b[39mwhile\u001b[39;00m \u001b[39mTrue\u001b[39;00m:\n",
      "File \u001b[1;32mc:\\Users\\sarah\\code_projects\\hades_star_api\\hades_star_api\\lib\\site-packages\\google\\cloud\\firestore_v1\\query.py:218\u001b[0m, in \u001b[0;36mQuery._get_stream_iterator\u001b[1;34m(self, transaction, retry, timeout)\u001b[0m\n\u001b[0;32m    211\u001b[0m \u001b[39m\"\"\"Helper method for :meth:`stream`.\"\"\"\u001b[39;00m\n\u001b[0;32m    212\u001b[0m request, expected_prefix, kwargs \u001b[39m=\u001b[39m \u001b[39mself\u001b[39m\u001b[39m.\u001b[39m_prep_stream(\n\u001b[0;32m    213\u001b[0m     transaction,\n\u001b[0;32m    214\u001b[0m     retry,\n\u001b[0;32m    215\u001b[0m     timeout,\n\u001b[0;32m    216\u001b[0m )\n\u001b[1;32m--> 218\u001b[0m response_iterator \u001b[39m=\u001b[39m \u001b[39mself\u001b[39m\u001b[39m.\u001b[39m_client\u001b[39m.\u001b[39m_firestore_api\u001b[39m.\u001b[39mrun_query(\n\u001b[0;32m    219\u001b[0m     request\u001b[39m=\u001b[39mrequest,\n\u001b[0;32m    220\u001b[0m     metadata\u001b[39m=\u001b[39m\u001b[39mself\u001b[39m\u001b[39m.\u001b[39m_client\u001b[39m.\u001b[39m_rpc_metadata,\n\u001b[0;32m    221\u001b[0m     \u001b[39m*\u001b[39m\u001b[39m*\u001b[39mkwargs,\n\u001b[0;32m    222\u001b[0m )\n\u001b[0;32m    224\u001b[0m \u001b[39mreturn\u001b[39;00m response_iterator, expected_prefix\n",
      "File \u001b[1;32mc:\\Users\\sarah\\code_projects\\hades_star_api\\hades_star_api\\lib\\site-packages\\google\\cloud\\firestore_v1\\services\\firestore\\client.py:1236\u001b[0m, in \u001b[0;36mFirestoreClient.run_query\u001b[1;34m(self, request, retry, timeout, metadata)\u001b[0m\n\u001b[0;32m   1231\u001b[0m metadata \u001b[39m=\u001b[39m \u001b[39mtuple\u001b[39m(metadata) \u001b[39m+\u001b[39m (\n\u001b[0;32m   1232\u001b[0m     gapic_v1\u001b[39m.\u001b[39mrouting_header\u001b[39m.\u001b[39mto_grpc_metadata(((\u001b[39m\"\u001b[39m\u001b[39mparent\u001b[39m\u001b[39m\"\u001b[39m, request\u001b[39m.\u001b[39mparent),)),\n\u001b[0;32m   1233\u001b[0m )\n\u001b[0;32m   1235\u001b[0m \u001b[39m# Send the request.\u001b[39;00m\n\u001b[1;32m-> 1236\u001b[0m response \u001b[39m=\u001b[39m rpc(\n\u001b[0;32m   1237\u001b[0m     request,\n\u001b[0;32m   1238\u001b[0m     retry\u001b[39m=\u001b[39;49mretry,\n\u001b[0;32m   1239\u001b[0m     timeout\u001b[39m=\u001b[39;49mtimeout,\n\u001b[0;32m   1240\u001b[0m     metadata\u001b[39m=\u001b[39;49mmetadata,\n\u001b[0;32m   1241\u001b[0m )\n\u001b[0;32m   1243\u001b[0m \u001b[39m# Done; return the response.\u001b[39;00m\n\u001b[0;32m   1244\u001b[0m \u001b[39mreturn\u001b[39;00m response\n",
      "File \u001b[1;32mc:\\Users\\sarah\\code_projects\\hades_star_api\\hades_star_api\\lib\\site-packages\\google\\api_core\\gapic_v1\\method.py:154\u001b[0m, in \u001b[0;36m_GapicCallable.__call__\u001b[1;34m(self, timeout, retry, *args, **kwargs)\u001b[0m\n\u001b[0;32m    151\u001b[0m     metadata\u001b[39m.\u001b[39mextend(\u001b[39mself\u001b[39m\u001b[39m.\u001b[39m_metadata)\n\u001b[0;32m    152\u001b[0m     kwargs[\u001b[39m\"\u001b[39m\u001b[39mmetadata\u001b[39m\u001b[39m\"\u001b[39m] \u001b[39m=\u001b[39m metadata\n\u001b[1;32m--> 154\u001b[0m \u001b[39mreturn\u001b[39;00m wrapped_func(\u001b[39m*\u001b[39margs, \u001b[39m*\u001b[39m\u001b[39m*\u001b[39mkwargs)\n",
      "File \u001b[1;32mc:\\Users\\sarah\\code_projects\\hades_star_api\\hades_star_api\\lib\\site-packages\\google\\api_core\\retry.py:283\u001b[0m, in \u001b[0;36mRetry.__call__.<locals>.retry_wrapped_func\u001b[1;34m(*args, **kwargs)\u001b[0m\n\u001b[0;32m    279\u001b[0m target \u001b[39m=\u001b[39m functools\u001b[39m.\u001b[39mpartial(func, \u001b[39m*\u001b[39margs, \u001b[39m*\u001b[39m\u001b[39m*\u001b[39mkwargs)\n\u001b[0;32m    280\u001b[0m sleep_generator \u001b[39m=\u001b[39m exponential_sleep_generator(\n\u001b[0;32m    281\u001b[0m     \u001b[39mself\u001b[39m\u001b[39m.\u001b[39m_initial, \u001b[39mself\u001b[39m\u001b[39m.\u001b[39m_maximum, multiplier\u001b[39m=\u001b[39m\u001b[39mself\u001b[39m\u001b[39m.\u001b[39m_multiplier\n\u001b[0;32m    282\u001b[0m )\n\u001b[1;32m--> 283\u001b[0m \u001b[39mreturn\u001b[39;00m retry_target(\n\u001b[0;32m    284\u001b[0m     target,\n\u001b[0;32m    285\u001b[0m     \u001b[39mself\u001b[39;49m\u001b[39m.\u001b[39;49m_predicate,\n\u001b[0;32m    286\u001b[0m     sleep_generator,\n\u001b[0;32m    287\u001b[0m     \u001b[39mself\u001b[39;49m\u001b[39m.\u001b[39;49m_deadline,\n\u001b[0;32m    288\u001b[0m     on_error\u001b[39m=\u001b[39;49mon_error,\n\u001b[0;32m    289\u001b[0m )\n",
      "File \u001b[1;32mc:\\Users\\sarah\\code_projects\\hades_star_api\\hades_star_api\\lib\\site-packages\\google\\api_core\\retry.py:190\u001b[0m, in \u001b[0;36mretry_target\u001b[1;34m(target, predicate, sleep_generator, deadline, on_error)\u001b[0m\n\u001b[0;32m    188\u001b[0m \u001b[39mfor\u001b[39;00m sleep \u001b[39min\u001b[39;00m sleep_generator:\n\u001b[0;32m    189\u001b[0m     \u001b[39mtry\u001b[39;00m:\n\u001b[1;32m--> 190\u001b[0m         \u001b[39mreturn\u001b[39;00m target()\n\u001b[0;32m    192\u001b[0m     \u001b[39m# pylint: disable=broad-except\u001b[39;00m\n\u001b[0;32m    193\u001b[0m     \u001b[39m# This function explicitly must deal with broad exceptions.\u001b[39;00m\n\u001b[0;32m    194\u001b[0m     \u001b[39mexcept\u001b[39;00m \u001b[39mException\u001b[39;00m \u001b[39mas\u001b[39;00m exc:\n",
      "File \u001b[1;32mc:\\Users\\sarah\\code_projects\\hades_star_api\\hades_star_api\\lib\\site-packages\\google\\api_core\\grpc_helpers.py:144\u001b[0m, in \u001b[0;36m_wrap_stream_errors.<locals>.error_remapped_callable\u001b[1;34m(*args, **kwargs)\u001b[0m\n\u001b[0;32m    140\u001b[0m     \u001b[39mreturn\u001b[39;00m _StreamingResponseIterator(\n\u001b[0;32m    141\u001b[0m         result, prefetch_first_result\u001b[39m=\u001b[39mprefetch_first\n\u001b[0;32m    142\u001b[0m     )\n\u001b[0;32m    143\u001b[0m \u001b[39mexcept\u001b[39;00m grpc\u001b[39m.\u001b[39mRpcError \u001b[39mas\u001b[39;00m exc:\n\u001b[1;32m--> 144\u001b[0m     \u001b[39mraise\u001b[39;00m exceptions\u001b[39m.\u001b[39mfrom_grpc_error(exc) \u001b[39mfrom\u001b[39;00m \u001b[39mexc\u001b[39;00m\n",
      "\u001b[1;31mFailedPrecondition\u001b[0m: 400 The query requires an index. You can create it here: https://console.firebase.google.com/v1/r/project/skaynet-356400/firestore/indexes?create_composite=ClRwcm9qZWN0cy9za2F5bmV0LTM1NjQwMC9kYXRhYmFzZXMvKGRlZmF1bHQpL2NvbGxlY3Rpb25Hcm91cHMvcXVldWVfcXVldWVfNS9pbmRleGVzL18QARoJCgV1c2VycxgBGg8KC2NyZWF0ZV90aW1lEAIaDAoIX19uYW1lX18QAg"
     ]
    }
   ],
   "source": [
    "got=query_results.get()\n",
    "print(got[0].to_dict())"
   ]
  },
  {
   "cell_type": "markdown",
   "metadata": {},
   "source": [
    "### Standard Queues"
   ]
  },
  {
   "cell_type": "code",
   "execution_count": null,
   "metadata": {},
   "outputs": [],
   "source": [
    "author_queue=standard.where(u'users', u'array_contains', str(ctx.author.id))\n",
    "        if len(author_queue.get())>0:\n",
    "            for thing in author_queue.stream():\n",
    "                found=1\n",
    "                rs_level=thing.to_dict()['red_star_level']\n",
    "            return found,rs_level\n",
    "        else:\n",
    "            found=0\n",
    "            red_star_level=int(ctx.channel[-1]) \n",
    "            rs_level_queue=standard.where(u'red_star_level', u'==', red_star_level).where(u'red_star_level', u'==', red_star_level).order_by('create_time',direction='ASCENDING').limit(1)\n",
    "            if len(rs_level_queue.get())>0:\n",
    "                rs_level_queue"
   ]
  },
  {
   "cell_type": "code",
   "execution_count": 213,
   "metadata": {},
   "outputs": [
    {
     "name": "stdout",
     "output_type": "stream",
     "text": [
      "{'create_time': DatetimeWithNanoseconds(2022, 7, 16, 19, 43, 55, 705000, tzinfo=datetime.timezone.utc), 'users': ['api_user', '11111']}\n"
     ]
    }
   ],
   "source": [
    "query_results=standard_queues_obj.where(u'users', u'array_contains', 'api_user') #Can query for user\n",
    "        #print(filtered)\n",
    "got=query_results.get()\n",
    "print(got[0].to_dict())"
   ]
  },
  {
   "cell_type": "markdown",
   "metadata": {},
   "source": [
    "## Write Data"
   ]
  },
  {
   "cell_type": "markdown",
   "metadata": {},
   "source": [
    "### Queues for Queues"
   ]
  },
  {
   "cell_type": "code",
   "execution_count": 109,
   "metadata": {},
   "outputs": [
    {
     "ename": "SyntaxError",
     "evalue": "invalid syntax (2324583545.py, line 6)",
     "output_type": "error",
     "traceback": [
      "\u001b[1;36m  Input \u001b[1;32mIn [109]\u001b[1;36m\u001b[0m\n\u001b[1;33m    u'group_id':1,\u001b[0m\n\u001b[1;37m    ^\u001b[0m\n\u001b[1;31mSyntaxError\u001b[0m\u001b[1;31m:\u001b[0m invalid syntax\n"
     ]
    }
   ],
   "source": [
    "queue_type='network'\n",
    "#queue_type='standard'\n",
    "rs_level=5\n",
    "doc = db.collection('red_star_groups').document()\n",
    "r=doc.set({\n",
    "        u'group_id':1,\n",
    "        u'create_time': firestore.SERVER_TIMESTAMP,\n",
    "        u'queue_type':queue_type,\n",
    "        u'red_star_level':rs_level,\n",
    "        u'users': ['api_user']})"
   ]
  },
  {
   "cell_type": "code",
   "execution_count": 139,
   "metadata": {},
   "outputs": [],
   "source": [
    "queues_obj=db.collection('red_star_groups').where(u'users', u'array_contains', '404868137096577026')"
   ]
  },
  {
   "cell_type": "code",
   "execution_count": 143,
   "metadata": {},
   "outputs": [
    {
     "ename": "AttributeError",
     "evalue": "'Query' object has no attribute 'delete'",
     "output_type": "error",
     "traceback": [
      "\u001b[1;31m---------------------------------------------------------------------------\u001b[0m",
      "\u001b[1;31mAttributeError\u001b[0m                            Traceback (most recent call last)",
      "\u001b[1;32mc:\\Users\\sarah\\code_projects\\hades_star_api\\testing.ipynb Cell 23\u001b[0m in \u001b[0;36m<cell line: 1>\u001b[1;34m()\u001b[0m\n\u001b[1;32m----> <a href='vscode-notebook-cell:/c%3A/Users/sarah/code_projects/hades_star_api/testing.ipynb#ch0000034?line=0'>1</a>\u001b[0m queues_obj\u001b[39m.\u001b[39;49mdelete()\n",
      "\u001b[1;31mAttributeError\u001b[0m: 'Query' object has no attribute 'delete'"
     ]
    }
   ],
   "source": [
    "queues_obj.delete()"
   ]
  },
  {
   "cell_type": "code",
   "execution_count": 141,
   "metadata": {},
   "outputs": [
    {
     "name": "stdout",
     "output_type": "stream",
     "text": [
      "{'users': ['api_user', '404868137096577026'], 'group_id': 1, 'queue_type': 'standard', 'red_star_level': 5, 'create_time': DatetimeWithNanoseconds(2022, 7, 20, 12, 31, 26, 196000, tzinfo=datetime.timezone.utc)}\n"
     ]
    }
   ],
   "source": [
    "for q in queues_obj.stream():\n",
    "    print(q.to_dict())"
   ]
  },
  {
   "cell_type": "code",
   "execution_count": 166,
   "metadata": {},
   "outputs": [
    {
     "data": {
      "text/plain": [
       "{'create_time': Sentinel: Value used to set a document field to the server timestamp.,\n",
       " 'users': ['api_user', '11111']}"
      ]
     },
     "execution_count": 166,
     "metadata": {},
     "output_type": "execute_result"
    }
   ],
   "source": [
    "data={'create_time':firestore.SERVER_TIMESTAMP , 'users': ['api_user','11111']}\n",
    "data"
   ]
  },
  {
   "cell_type": "code",
   "execution_count": 167,
   "metadata": {},
   "outputs": [
    {
     "data": {
      "text/plain": [
       "update_time {\n",
       "  seconds: 1658000412\n",
       "  nanos: 165188000\n",
       "}\n",
       "transform_results {\n",
       "  timestamp_value {\n",
       "    seconds: 1658000412\n",
       "    nanos: 126000000\n",
       "  }\n",
       "}"
      ]
     },
     "execution_count": 167,
     "metadata": {},
     "output_type": "execute_result"
    }
   ],
   "source": [
    "db.collection(u'queue_queue_5').document(u'group_id3').set(data)"
   ]
  },
  {
   "cell_type": "markdown",
   "metadata": {},
   "source": [
    "### Standard Queues"
   ]
  },
  {
   "cell_type": "code",
   "execution_count": 91,
   "metadata": {},
   "outputs": [
    {
     "data": {
      "text/plain": [
       "update_time {\n",
       "  seconds: 1658320312\n",
       "  nanos: 639373000\n",
       "}\n",
       "transform_results {\n",
       "  timestamp_value {\n",
       "    seconds: 1658320312\n",
       "    nanos: 609000000\n",
       "  }\n",
       "}"
      ]
     },
     "execution_count": 91,
     "metadata": {},
     "output_type": "execute_result"
    }
   ],
   "source": [
    "queue_type='network'\n",
    "#queue_type='standard'\n",
    "rs_level=5\n",
    "doc = db.collection('red_star_groups').document()\n",
    "doc.set({\n",
    "        u'group_id':3,\n",
    "        u'create_time': firestore.SERVER_TIMESTAMP,\n",
    "        u'queue_type':queue_type,\n",
    "        u'red_star_level':rs_level,\n",
    "        u'users': ['api_user']})"
   ]
  },
  {
   "cell_type": "markdown",
   "metadata": {},
   "source": [
    "# Datastore"
   ]
  },
  {
   "cell_type": "code",
   "execution_count": null,
   "metadata": {},
   "outputs": [],
   "source": [
    "from google.cloud import datastore"
   ]
  },
  {
   "cell_type": "code",
   "execution_count": null,
   "metadata": {},
   "outputs": [],
   "source": [
    "datastore_client = datastore.Client()"
   ]
  },
  {
   "cell_type": "code",
   "execution_count": null,
   "metadata": {},
   "outputs": [],
   "source": [
    "kind = \"red_star_queues\"\n",
    "name = \"sampletask1\""
   ]
  }
 ],
 "metadata": {
  "kernelspec": {
   "display_name": "Python 3.10.0 ('hades_star_api': venv)",
   "language": "python",
   "name": "python3"
  },
  "language_info": {
   "codemirror_mode": {
    "name": "ipython",
    "version": 3
   },
   "file_extension": ".py",
   "mimetype": "text/x-python",
   "name": "python",
   "nbconvert_exporter": "python",
   "pygments_lexer": "ipython3",
   "version": "3.10.0"
  },
  "orig_nbformat": 4,
  "vscode": {
   "interpreter": {
    "hash": "8f6bc826c9913af01bb94756f96195e71846cc516585bf344a2c9ca1510c43cf"
   }
  }
 },
 "nbformat": 4,
 "nbformat_minor": 2
}
